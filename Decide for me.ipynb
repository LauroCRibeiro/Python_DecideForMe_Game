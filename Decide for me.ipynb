{
 "cells": [
  {
   "cell_type": "code",
   "execution_count": null,
   "metadata": {},
   "outputs": [],
   "source": [
    "#Ask a question for the program and it will give you an answer\n",
    "\n",
    "import random\n",
    "import PySimpleGUI as sg\n",
    "\n",
    "class DecideForMe:\n",
    "    def __init__(self):\n",
    "        self.answers = [\n",
    "            'Sure, you have to do that!',\n",
    "            'I do not know, you decide it',\n",
    "            'Do not ever do it!',\n",
    "            'I think you are right!'\n",
    "        ]\n",
    "        \n",
    "    def Start(self):\n",
    "        #Layout\n",
    "        layout = [\n",
    "            [sg.Text('Ask a question: ')],\n",
    "            [sg.Input()],\n",
    "            [sg.Output(size=(50,10))],\n",
    "            [sg.Button('Decide for me')]\n",
    "        ]\n",
    "        \n",
    "        #Create a Frame\n",
    "        self.window = sg.Window('Decide for me!', layout=layout)\n",
    "        while True:\n",
    "            #Read the values\n",
    "            self.eventos, self.values = self.window.Read()\n",
    "            #Do something with this value\n",
    "            if self.eventos == 'Decide for me':\n",
    "                print(random.choice(self.answers))\n",
    "                \n",
    "decide = DecideForMe()\n",
    "decide.Start()"
   ]
  }
 ],
 "metadata": {
  "kernelspec": {
   "display_name": "Python 3",
   "language": "python",
   "name": "python3"
  },
  "language_info": {
   "codemirror_mode": {
    "name": "ipython",
    "version": 3
   },
   "file_extension": ".py",
   "mimetype": "text/x-python",
   "name": "python",
   "nbconvert_exporter": "python",
   "pygments_lexer": "ipython3",
   "version": "3.7.0"
  }
 },
 "nbformat": 4,
 "nbformat_minor": 2
}
